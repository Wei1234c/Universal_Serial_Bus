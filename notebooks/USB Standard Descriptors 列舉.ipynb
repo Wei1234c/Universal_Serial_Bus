{
 "cells": [
  {
   "cell_type": "markdown",
   "metadata": {},
   "source": [
    "# USB Standard Descriptors 列舉\n",
    "https://wwssllabcd.github.io/blog/2012/11/28/usb-emulation/  \n",
    "https://www.beyondlogic.org/usbnutshell/  "
   ]
  },
  {
   "cell_type": "markdown",
   "metadata": {},
   "source": [
    "### 需安裝\n",
    "\n",
    "```\n",
    "pip install pyusb\n",
    "\n",
    "```\n",
    "\n",
    "### Windows DLL\n",
    "[libusb-win32-devel-filter-1.2.6.0.exe](https://sourceforge.net/projects/libusb-win32/files/libusb-win32-releases/1.2.6.0/)  \n",
    "\n",
    "https://sourceforge.net/projects/libusb-win32/  \n",
    "\n",
    "\n",
    "\n",
    "### Linux 權限\n",
    "https://ubuntuforums.org/showthread.php?t=1682084  \n",
    "https://linuxconfig.org/tutorial-on-how-to-write-basic-udev-rules-in-linux  \n",
    "```\n",
    "If anyone is interested.. fixed with udev rule:\n",
    "\n",
    "cd /etc/udev/rules.d/\n",
    "\n",
    "nano 70-ch341.rules\n",
    "\n",
    "SUBSYSTEM==\"usb\", ATTRS{idVendor}==\"1a86\", GROUP=\"dialout\"\n",
    "SUBSYSTEM==\"usb\", ATTRS{idVendor}==\"1a86\", MODE=\"666\"\n",
    "\n",
    "then reloaded udev rules:\n",
    "\n",
    "$ sudo udevadm control --reload-rules  \n",
    "$ sudo udevadm trigger\n",
    "\n",
    "```"
   ]
  },
  {
   "cell_type": "code",
   "execution_count": 1,
   "metadata": {},
   "outputs": [
    {
     "name": "stdout",
     "output_type": "stream",
     "text": [
      "Populating the interactive namespace from numpy and matplotlib\n"
     ]
    }
   ],
   "source": [
    "%pylab inline  \n",
    "\n",
    "import usb"
   ]
  },
  {
   "cell_type": "code",
   "execution_count": 2,
   "metadata": {},
   "outputs": [],
   "source": [
    "import os\n",
    "import sys\n",
    "sys.path.append(os.path.abspath(os.path.join('..', 'codes')))\n",
    "\n",
    "path = os.sep.join(['..', '..', '..', '..', '..', '..', '待處理', 'ORM', 'bitbucket', 'github', 'codes'])\n",
    "sys.path.append(path) \n",
    "\n",
    "path = os.sep.join(['..', '..', '..', '..', '..', '..', '待處理', 'USB', 'Universal Serial Bus', 'bitbucket', 'github', 'codes'])\n",
    "sys.path.append(path)\n",
    "\n",
    "import universal_serial_bus\n",
    "from universal_serial_bus import *  "
   ]
  },
  {
   "cell_type": "markdown",
   "metadata": {},
   "source": [
    "## USB Descriptors"
   ]
  },
  {
   "cell_type": "code",
   "execution_count": 3,
   "metadata": {},
   "outputs": [],
   "source": [
    "from universal_serial_bus.orm.usb20.descriptors import * \n",
    "\n",
    "db_path = 'C:\\\\Users\\\\Wei\\\\Dropbox\\\\Coding\\\\notebooks\\\\專案\\\\待處理\\\\USB\\\\Universal Serial Bus\\\\bitbucket\\\\github\\\\spec\\\\usb20\\\\'\n",
    "db_path = db_path + 'usb_2_0_descriptors.sqlite'\n",
    "db_url = 'sqlite:///' + db_path  \n",
    "\n",
    "ModelBuilder._truncate_tables(db_url) \n",
    "_, _, tables, session_usb20_descriptors = map_db_objects(db_url)"
   ]
  },
  {
   "cell_type": "code",
   "execution_count": 4,
   "metadata": {
    "scrolled": false
   },
   "outputs": [
    {
     "name": "stdout",
     "output_type": "stream",
     "text": [
      "\n",
      "class DeviceQualifierDescriptor(OrmClassBase):\n",
      "\n",
      "    fields_sizes = [('bLength', 1), ('bDescriptorType', 1), ('bcdUSB', 2), ('bDeviceClass', 1), ('bDeviceSubClass', 1), ('bDeviceProtocol', 1), ('bMaxPacketSize0', 1), ('bNumConfigurations', 1), ('bReserved', 1),]\n",
      "\n",
      "    def __init__(self, bLength, bDescriptorType, bcdUSB, bDeviceClass, bDeviceSubClass, bDeviceProtocol, bMaxPacketSize0, bNumConfigurations, bReserved, parent_id = None):\n",
      "\n",
      "        self.parent_id = parent_id\n",
      "        self.bLength = bLength\n",
      "        self.bDescriptorType = bDescriptorType\n",
      "        self.bcdUSB = bcdUSB\n",
      "        self.bDeviceClass = bDeviceClass\n",
      "        self.bDeviceSubClass = bDeviceSubClass\n",
      "        self.bDeviceProtocol = bDeviceProtocol\n",
      "        self.bMaxPacketSize0 = bMaxPacketSize0\n",
      "        self.bNumConfigurations = bNumConfigurations\n",
      "        self.bReserved = bReserved\n",
      "\n",
      "\n",
      "class OtherSpeedConfigurationDescriptor(OrmClassBase):\n",
      "\n",
      "    fields_sizes = [('bLength', 1), ('bDescriptorType', 1), ('wTotalLength', 2), ('bNumInterfaces', 1), ('bConfigurationValue', 1), ('iConfiguration', 1), ('bmAttributes', 1), ('bMaxPower', 1),]\n",
      "\n",
      "    def __init__(self, bLength, bDescriptorType, wTotalLength, bNumInterfaces, bConfigurationValue, iConfiguration, bmAttributes, bMaxPower, parent_id = None):\n",
      "\n",
      "        self.parent_id = parent_id\n",
      "        self.bLength = bLength\n",
      "        self.bDescriptorType = bDescriptorType\n",
      "        self.wTotalLength = wTotalLength\n",
      "        self.bNumInterfaces = bNumInterfaces\n",
      "        self.bConfigurationValue = bConfigurationValue\n",
      "        self.iConfiguration = iConfiguration\n",
      "        self.bmAttributes = bmAttributes\n",
      "        self.bMaxPower = bMaxPower\n",
      "\n",
      "\n",
      "class StandardConfigurationDescriptor(OrmClassBase):\n",
      "\n",
      "    fields_sizes = [('bLength', 1), ('bDescriptorType', 1), ('wTotalLength', 2), ('bNumInterfaces', 1), ('bConfigurationValue', 1), ('iConfiguration', 1), ('bmAttributes', 1), ('bMaxPower', 1),]\n",
      "\n",
      "    def __init__(self, bLength, bDescriptorType, wTotalLength, bNumInterfaces, bConfigurationValue, iConfiguration, bmAttributes, bMaxPower, parent_id = None):\n",
      "\n",
      "        self.parent_id = parent_id\n",
      "        self.bLength = bLength\n",
      "        self.bDescriptorType = bDescriptorType\n",
      "        self.wTotalLength = wTotalLength\n",
      "        self.bNumInterfaces = bNumInterfaces\n",
      "        self.bConfigurationValue = bConfigurationValue\n",
      "        self.iConfiguration = iConfiguration\n",
      "        self.bmAttributes = bmAttributes\n",
      "        self.bMaxPower = bMaxPower\n",
      "\n",
      "\n",
      "class StandardDeviceDescriptor(OrmClassBase):\n",
      "\n",
      "    fields_sizes = [('bLength', 1), ('bDescriptorType', 1), ('bcdUSB', 2), ('bDeviceClass', 1), ('bDeviceSubClass', 1), ('bDeviceProtocol', 1), ('bMaxPacketSize0', 1), ('idVendor', 2), ('idProduct', 2), ('bcdDevice', 2), ('iManufacturer', 1), ('iProduct', 1), ('iSerialNumber', 1), ('bNumConfigurations', 1),]\n",
      "\n",
      "    def __init__(self, bLength, bDescriptorType, bcdUSB, bDeviceClass, bDeviceSubClass, bDeviceProtocol, bMaxPacketSize0, idVendor, idProduct, bcdDevice, iManufacturer, iProduct, iSerialNumber, bNumConfigurations, parent_id = None):\n",
      "\n",
      "        self.parent_id = parent_id\n",
      "        self.bLength = bLength\n",
      "        self.bDescriptorType = bDescriptorType\n",
      "        self.bcdUSB = bcdUSB\n",
      "        self.bDeviceClass = bDeviceClass\n",
      "        self.bDeviceSubClass = bDeviceSubClass\n",
      "        self.bDeviceProtocol = bDeviceProtocol\n",
      "        self.bMaxPacketSize0 = bMaxPacketSize0\n",
      "        self.idVendor = idVendor\n",
      "        self.idProduct = idProduct\n",
      "        self.bcdDevice = bcdDevice\n",
      "        self.iManufacturer = iManufacturer\n",
      "        self.iProduct = iProduct\n",
      "        self.iSerialNumber = iSerialNumber\n",
      "        self.bNumConfigurations = bNumConfigurations\n",
      "\n",
      "\n",
      "class StandardEndpointDescriptor(OrmClassBase):\n",
      "\n",
      "    fields_sizes = [('bLength', 1), ('bDescriptorType', 1), ('bEndpointAddress', 1), ('bmAttributes', 1), ('wMaxPacketSize', 2), ('bInterval', 1),]\n",
      "\n",
      "    def __init__(self, bLength, bDescriptorType, bEndpointAddress, bmAttributes, wMaxPacketSize, bInterval, parent_id = None):\n",
      "\n",
      "        self.parent_id = parent_id\n",
      "        self.bLength = bLength\n",
      "        self.bDescriptorType = bDescriptorType\n",
      "        self.bEndpointAddress = bEndpointAddress\n",
      "        self.bmAttributes = bmAttributes\n",
      "        self.wMaxPacketSize = wMaxPacketSize\n",
      "        self.bInterval = bInterval\n",
      "\n",
      "\n",
      "class StandardInterfaceDescriptor(OrmClassBase):\n",
      "\n",
      "    fields_sizes = [('bLength', 1), ('bDescriptorType', 1), ('bInterfaceNumber', 1), ('bAlternateSetting', 1), ('bNumEndpoints', 1), ('bInterfaceClass', 1), ('bInterfaceSubClass', 1), ('bInterfaceProtocol', 1), ('iInterface', 1),]\n",
      "\n",
      "    def __init__(self, bLength, bDescriptorType, bInterfaceNumber, bAlternateSetting, bNumEndpoints, bInterfaceClass, bInterfaceSubClass, bInterfaceProtocol, iInterface, parent_id = None):\n",
      "\n",
      "        self.parent_id = parent_id\n",
      "        self.bLength = bLength\n",
      "        self.bDescriptorType = bDescriptorType\n",
      "        self.bInterfaceNumber = bInterfaceNumber\n",
      "        self.bAlternateSetting = bAlternateSetting\n",
      "        self.bNumEndpoints = bNumEndpoints\n",
      "        self.bInterfaceClass = bInterfaceClass\n",
      "        self.bInterfaceSubClass = bInterfaceSubClass\n",
      "        self.bInterfaceProtocol = bInterfaceProtocol\n",
      "        self.iInterface = iInterface\n",
      "\n",
      "\n",
      "class StringDescriptorZero(OrmClassBase):\n",
      "\n",
      "    fields_sizes = [('bLength', 1), ('bDescriptorType', 1), ('wLANGID_0_', 2), ('wLANGID_x_', 2),]\n",
      "\n",
      "    def __init__(self, bLength, bDescriptorType, wLANGID_0_, wLANGID_x_, parent_id = None):\n",
      "\n",
      "        self.parent_id = parent_id\n",
      "        self.bLength = bLength\n",
      "        self.bDescriptorType = bDescriptorType\n",
      "        self.wLANGID_0_ = wLANGID_0_\n",
      "        self.wLANGID_x_ = wLANGID_x_\n",
      "\n",
      "\n",
      "class UnicodeStringDescriptor(OrmClassBase):\n",
      "\n",
      "    fields_sizes = [('bLength', 1), ('bDescriptorType', 1), ('bString', 255),]\n",
      "\n",
      "    def __init__(self, bLength, bDescriptorType, bString, parent_id = None):\n",
      "\n",
      "        self.parent_id = parent_id\n",
      "        self.bLength = bLength\n",
      "        self.bDescriptorType = bDescriptorType\n",
      "        self.bString = bString\n",
      "\n",
      "#*******************************************\n",
      "\n",
      "from sqlalchemy import create_engine, MetaData, Table\n",
      "from sqlalchemy.orm import sessionmaker\n",
      "\n",
      "\n",
      "engine = create_engine(\"sqlite:///C:\\\\Users\\\\Wei\\\\Dropbox\\\\Coding\\\\notebooks\\\\專案\\\\待處理\\\\USB\\\\Universal Serial Bus\\\\bitbucket\\\\github\\\\spec\\\\usb20\\\\usb_2_0_descriptors.sqlite\", echo = False)\n",
      "meta = MetaData(bind = engine)\n",
      "meta.reflect()\n",
      "tables = [Table(table, meta) for table in meta.tables]\n",
      "Session = sessionmaker(bind=engine)\n",
      "session = Session()\n",
      "\n",
      "\n",
      "from sqlalchemy.orm import mapper\n",
      "\n",
      "device_qualifier_descriptor = tables[0]\n",
      "other_speed_configuration_descriptor = tables[1]\n",
      "standard_configuration_descriptor = tables[2]\n",
      "standard_device_descriptor = tables[3]\n",
      "standard_endpoint_descriptor = tables[4]\n",
      "standard_interface_descriptor = tables[5]\n",
      "string_descriptor_zero = tables[6]\n",
      "unicode_string_descriptor = tables[7]\n",
      "\n",
      "mapper(DeviceQualifierDescriptor, device_qualifier_descriptor)\n",
      "mapper(OtherSpeedConfigurationDescriptor, other_speed_configuration_descriptor)\n",
      "mapper(StandardConfigurationDescriptor, standard_configuration_descriptor)\n",
      "mapper(StandardDeviceDescriptor, standard_device_descriptor)\n",
      "mapper(StandardEndpointDescriptor, standard_endpoint_descriptor)\n",
      "mapper(StandardInterfaceDescriptor, standard_interface_descriptor)\n",
      "mapper(StringDescriptorZero, string_descriptor_zero)\n",
      "mapper(UnicodeStringDescriptor, unicode_string_descriptor)\n",
      "\n"
     ]
    }
   ],
   "source": [
    "ModelBuilder.gen_all(db_url)"
   ]
  },
  {
   "cell_type": "markdown",
   "metadata": {},
   "source": [
    "## USB Codes"
   ]
  },
  {
   "cell_type": "code",
   "execution_count": 5,
   "metadata": {},
   "outputs": [],
   "source": [
    "from universal_serial_bus.orm.usb20.codes import * \n",
    "\n",
    "db_path = 'C:\\\\Users\\\\Wei\\\\Dropbox\\\\Coding\\\\notebooks\\\\專案\\\\待處理\\\\USB\\\\Universal Serial Bus\\\\bitbucket\\\\github\\\\spec\\\\usb20\\\\'\n",
    "db_path = db_path + 'usb_2_0_codes.sqlite'\n",
    "db_url = 'sqlite:///' + db_path  \n",
    "\n",
    "# ModelBuilder._truncate_tables(db_url) \n",
    "_, _, tables, session_usb20_codes = map_db_objects(db_url)"
   ]
  },
  {
   "cell_type": "code",
   "execution_count": 6,
   "metadata": {
    "scrolled": false
   },
   "outputs": [
    {
     "name": "stdout",
     "output_type": "stream",
     "text": [
      "\n",
      "class ClassCode(OrmClassBase):\n",
      "\n",
      "    fields_sizes = [('base_code', 1),]\n",
      "\n",
      "    def __init__(self, description, descriptor_usage, base_code):\n",
      "\n",
      "        self.description = description\n",
      "        self.descriptor_usage = descriptor_usage\n",
      "        self.base_code = base_code\n",
      "\n",
      "\n",
      "class DescriptorType(OrmClassBase):\n",
      "\n",
      "    fields_sizes = [('bDescriptorType', 1),]\n",
      "\n",
      "    def __init__(self, dscrpt_type, bDescriptorType):\n",
      "\n",
      "        self.dscrpt_type = dscrpt_type\n",
      "        self.bDescriptorType = bDescriptorType\n",
      "\n",
      "\n",
      "class RequestCode(OrmClassBase):\n",
      "\n",
      "    fields_sizes = [('rqst_code', 1),]\n",
      "\n",
      "    def __init__(self, request_type, rqst_code):\n",
      "\n",
      "        self.request_type = request_type\n",
      "        self.rqst_code = rqst_code\n",
      "\n",
      "#*******************************************\n",
      "\n",
      "from sqlalchemy import create_engine, MetaData, Table\n",
      "from sqlalchemy.orm import sessionmaker\n",
      "\n",
      "\n",
      "engine = create_engine(\"sqlite:///C:\\\\Users\\\\Wei\\\\Dropbox\\\\Coding\\\\notebooks\\\\專案\\\\待處理\\\\USB\\\\Universal Serial Bus\\\\bitbucket\\\\github\\\\spec\\\\usb20\\\\usb_2_0_codes.sqlite\", echo = False)\n",
      "meta = MetaData(bind = engine)\n",
      "meta.reflect()\n",
      "tables = [Table(table, meta) for table in meta.tables]\n",
      "Session = sessionmaker(bind=engine)\n",
      "session = Session()\n",
      "\n",
      "\n",
      "from sqlalchemy.orm import mapper\n",
      "\n",
      "class_code = tables[0]\n",
      "descriptor_type = tables[1]\n",
      "request_code = tables[2]\n",
      "\n",
      "mapper(ClassCode, class_code)\n",
      "mapper(DescriptorType, descriptor_type)\n",
      "mapper(RequestCode, request_code)\n",
      "\n"
     ]
    }
   ],
   "source": [
    "ModelBuilder.gen_all(db_url)"
   ]
  },
  {
   "cell_type": "markdown",
   "metadata": {},
   "source": [
    "## Devices"
   ]
  },
  {
   "cell_type": "code",
   "execution_count": 7,
   "metadata": {},
   "outputs": [
    {
     "data": {
      "text/plain": [
       "[(1204, 1018)]"
      ]
     },
     "execution_count": 7,
     "metadata": {},
     "output_type": "execute_result"
    }
   ],
   "source": [
    "devices, devices_ids = find_all_devices_by_class(DEVICE_CLASS.Audio)\n",
    "devices_ids"
   ]
  },
  {
   "cell_type": "markdown",
   "metadata": {},
   "source": [
    "## Device"
   ]
  },
  {
   "cell_type": "code",
   "execution_count": 8,
   "metadata": {},
   "outputs": [],
   "source": [
    "# idVendor = 0x1b3f\n",
    "# idProduct = 0x2008\n",
    "\n",
    "idVendor, idProduct = devices_ids[0]"
   ]
  },
  {
   "cell_type": "code",
   "execution_count": 9,
   "metadata": {},
   "outputs": [],
   "source": [
    "from universal_serial_bus.orm.usb20 import * "
   ]
  },
  {
   "cell_type": "code",
   "execution_count": 10,
   "metadata": {},
   "outputs": [],
   "source": [
    "# dev = usb.core.find(idVendor = idVendor, idProduct = idProduct)\n",
    "usb_device = USBdevice(vid = idVendor, pid = idProduct) \n",
    "# print(dev)"
   ]
  },
  {
   "cell_type": "code",
   "execution_count": 11,
   "metadata": {},
   "outputs": [],
   "source": [
    "usb_device.id = 1"
   ]
  },
  {
   "cell_type": "code",
   "execution_count": 12,
   "metadata": {},
   "outputs": [
    {
     "data": {
      "text/plain": [
       "[array('B', [18, 1, 0, 2, 239, 2, 1, 64, 180, 4, 250, 3, 16, 0, 1, 2, 3, 1]),\n",
       " array('B', [9, 2, 152, 0, 2, 1, 4, 128, 50]),\n",
       " array('B', [8, 11, 0, 2, 1, 0, 32, 6]),\n",
       " array('B', [9, 4, 0, 0, 1, 1, 1, 32, 7]),\n",
       " array('B', [9, 36, 1, 0, 2, 1, 71, 0, 0]),\n",
       " array('B', [8, 36, 10, 16, 5, 3, 0, 8]),\n",
       " array('B', [17, 36, 2, 1, 1, 1, 0, 16, 2, 0, 0, 0, 0, 14, 0, 0, 9]),\n",
       " array('B', [18, 36, 6, 2, 1, 15, 0, 0, 0, 0, 0, 0, 0, 0, 0, 0, 0, 10]),\n",
       " array('B', [12, 36, 3, 3, 1, 3, 0, 2, 16, 0, 0, 11]),\n",
       " array('B', [7, 5, 129, 3, 6, 0, 1]),\n",
       " array('B', [9, 4, 1, 0, 0, 1, 2, 32, 12]),\n",
       " array('B', [9, 4, 1, 1, 1, 1, 2, 32, 13]),\n",
       " array('B', [16, 36, 1, 1, 0, 1, 1, 0, 0, 0, 2, 0, 0, 0, 0, 16]),\n",
       " array('B', [6, 36, 2, 1, 4, 24]),\n",
       " array('B', [7, 5, 2, 13, 0, 28, 1]),\n",
       " array('B', [8, 37, 1, 0, 0, 0, 0, 0])]"
      ]
     },
     "execution_count": 12,
     "metadata": {},
     "output_type": "execute_result"
    }
   ],
   "source": [
    "usb_device.descriptors"
   ]
  },
  {
   "cell_type": "code",
   "execution_count": 13,
   "metadata": {},
   "outputs": [
    {
     "name": "stdout",
     "output_type": "stream",
     "text": [
      "DEVICE ID 04b4:03fa on Bus 000 Address 003 =================\n",
      " bLength                :   0x12 (18 bytes)\n",
      " bDescriptorType        :    0x1 Device\n",
      " bcdUSB                 :  0x200 USB 2.0\n",
      " bDeviceClass           :   0xef Miscellaneous\n",
      " bDeviceSubClass        :    0x2\n",
      " bDeviceProtocol        :    0x1\n",
      " bMaxPacketSize0        :   0x40 (64 bytes)\n",
      " idVendor               : 0x04b4\n",
      " idProduct              : 0x03fa\n",
      " bcdDevice              :   0x10 Device 0.1\n",
      " iManufacturer          :    0x1 Wei Lin\n",
      " iProduct               :    0x2 UAC2.0 Sound Card Prototype\n",
      " iSerialNumber          :    0x3 0.1\n",
      " bNumConfigurations     :    0x1\n",
      "  CONFIGURATION 1: 100 mA ==================================\n",
      "   bLength              :    0x9 (9 bytes)\n",
      "   bDescriptorType      :    0x2 Configuration\n",
      "   wTotalLength         :   0x98 (152 bytes)\n",
      "   bNumInterfaces       :    0x2\n",
      "   bConfigurationValue  :    0x1\n",
      "   iConfiguration       :    0x4 High speed configuration\n",
      "   bmAttributes         :   0x80 Bus Powered\n",
      "   bMaxPower            :   0x32 (100 mA)\n",
      "    INTERFACE 0: Audio =====================================\n",
      "     bLength            :    0x9 (9 bytes)\n",
      "     bDescriptorType    :    0x4 Interface\n",
      "     bInterfaceNumber   :    0x0\n",
      "     bAlternateSetting  :    0x0\n",
      "     bNumEndpoints      :    0x1\n",
      "     bInterfaceClass    :    0x1 Audio\n",
      "     bInterfaceSubClass :    0x1\n",
      "     bInterfaceProtocol :   0x20\n",
      "     iInterface         :    0x7 Audio Control Interface\n",
      "      ENDPOINT 0x81: Interrupt IN ==========================\n",
      "       bLength          :    0x7 (7 bytes)\n",
      "       bDescriptorType  :    0x5 Endpoint\n",
      "       bEndpointAddress :   0x81 IN\n",
      "       bmAttributes     :    0x3 Interrupt\n",
      "       wMaxPacketSize   :    0x6 (6 bytes)\n",
      "       bInterval        :    0x1\n",
      "    INTERFACE 1: Audio =====================================\n",
      "     bLength            :    0x9 (9 bytes)\n",
      "     bDescriptorType    :    0x4 Interface\n",
      "     bInterfaceNumber   :    0x1\n",
      "     bAlternateSetting  :    0x0\n",
      "     bNumEndpoints      :    0x0\n",
      "     bInterfaceClass    :    0x1 Audio\n",
      "     bInterfaceSubClass :    0x2\n",
      "     bInterfaceProtocol :   0x20\n",
      "     iInterface         :    0xc Audio Streaming Disabled (zero bandwidth)\n",
      "    INTERFACE 1, 1: Audio ==================================\n",
      "     bLength            :    0x9 (9 bytes)\n",
      "     bDescriptorType    :    0x4 Interface\n",
      "     bInterfaceNumber   :    0x1\n",
      "     bAlternateSetting  :    0x1\n",
      "     bNumEndpoints      :    0x1\n",
      "     bInterfaceClass    :    0x1 Audio\n",
      "     bInterfaceSubClass :    0x2\n",
      "     bInterfaceProtocol :   0x20\n",
      "     iInterface         :    0xd Audio Streaming Enabled\n",
      "      ENDPOINT 0x2: Isochronous OUT ========================\n",
      "       bLength          :    0x7 (7 bytes)\n",
      "       bDescriptorType  :    0x5 Endpoint\n",
      "       bEndpointAddress :    0x2 OUT\n",
      "       bmAttributes     :    0xd Isochronous\n",
      "       wMaxPacketSize   : 0x1c00 (7168 bytes)\n",
      "       bInterval        :    0x1\n"
     ]
    }
   ],
   "source": [
    "print(usb_device)"
   ]
  },
  {
   "cell_type": "code",
   "execution_count": 14,
   "metadata": {},
   "outputs": [
    {
     "data": {
      "text/plain": [
       "[{'StandardDeviceDescriptor': {'parent_id': None,\n",
       "   'bLength': '12',\n",
       "   'bDescriptorType': '01',\n",
       "   'bcdUSB': '0002',\n",
       "   'bDeviceClass': 'ef',\n",
       "   'bDeviceSubClass': '02',\n",
       "   'bDeviceProtocol': '01',\n",
       "   'bMaxPacketSize0': '40',\n",
       "   'idVendor': 'b404',\n",
       "   'idProduct': 'fa03',\n",
       "   'bcdDevice': '1000',\n",
       "   'iManufacturer': '01',\n",
       "   'iProduct': '02',\n",
       "   'iSerialNumber': '03',\n",
       "   'bNumConfigurations': '01'}},\n",
       " {'StandardConfigurationDescriptor': {'parent_id': None,\n",
       "   'bLength': '09',\n",
       "   'bDescriptorType': '02',\n",
       "   'wTotalLength': '9800',\n",
       "   'bNumInterfaces': '02',\n",
       "   'bConfigurationValue': '01',\n",
       "   'iConfiguration': '04',\n",
       "   'bmAttributes': '80',\n",
       "   'bMaxPower': '32'}},\n",
       " {'StandardInterfaceDescriptor': {'parent_id': None,\n",
       "   'bLength': '09',\n",
       "   'bDescriptorType': '04',\n",
       "   'bInterfaceNumber': '00',\n",
       "   'bAlternateSetting': '00',\n",
       "   'bNumEndpoints': '01',\n",
       "   'bInterfaceClass': '01',\n",
       "   'bInterfaceSubClass': '01',\n",
       "   'bInterfaceProtocol': '20',\n",
       "   'iInterface': '07'}},\n",
       " {'StandardEndpointDescriptor': {'parent_id': None,\n",
       "   'bLength': '07',\n",
       "   'bDescriptorType': '05',\n",
       "   'bEndpointAddress': '81',\n",
       "   'bmAttributes': '03',\n",
       "   'wMaxPacketSize': '0600',\n",
       "   'bInterval': '01'}},\n",
       " {'StandardInterfaceDescriptor': {'parent_id': None,\n",
       "   'bLength': '09',\n",
       "   'bDescriptorType': '04',\n",
       "   'bInterfaceNumber': '01',\n",
       "   'bAlternateSetting': '00',\n",
       "   'bNumEndpoints': '00',\n",
       "   'bInterfaceClass': '01',\n",
       "   'bInterfaceSubClass': '02',\n",
       "   'bInterfaceProtocol': '20',\n",
       "   'iInterface': '0c'}},\n",
       " {'StandardInterfaceDescriptor': {'parent_id': None,\n",
       "   'bLength': '09',\n",
       "   'bDescriptorType': '04',\n",
       "   'bInterfaceNumber': '01',\n",
       "   'bAlternateSetting': '01',\n",
       "   'bNumEndpoints': '01',\n",
       "   'bInterfaceClass': '01',\n",
       "   'bInterfaceSubClass': '02',\n",
       "   'bInterfaceProtocol': '20',\n",
       "   'iInterface': '0d'}},\n",
       " {'StandardEndpointDescriptor': {'parent_id': None,\n",
       "   'bLength': '07',\n",
       "   'bDescriptorType': '05',\n",
       "   'bEndpointAddress': '02',\n",
       "   'bmAttributes': '0d',\n",
       "   'wMaxPacketSize': '001c',\n",
       "   'bInterval': '01'}}]"
      ]
     },
     "execution_count": 14,
     "metadata": {},
     "output_type": "execute_result"
    }
   ],
   "source": [
    "usb_device.descriptors_dbos_and_attributes "
   ]
  },
  {
   "cell_type": "markdown",
   "metadata": {},
   "source": [
    "## Device descriptor\n",
    "https://www.beyondlogic.org/usbnutshell/usb5.shtml#DeviceDescriptors  "
   ]
  },
  {
   "cell_type": "code",
   "execution_count": 15,
   "metadata": {},
   "outputs": [],
   "source": [
    "bmRequestType = usb.util.build_request_type(CONTROL_REQUEST.DIRECTION.IN, \n",
    "                                            CONTROL_REQUEST.TYPE.STANDARD, \n",
    "                                            CONTROL_REQUEST.RECIPIENT.DEVICE)"
   ]
  },
  {
   "cell_type": "code",
   "execution_count": 16,
   "metadata": {},
   "outputs": [
    {
     "data": {
      "text/plain": [
       "array('B', [18, 1, 0, 2, 239, 2, 1, 64, 180, 4, 250, 3, 16, 0, 1, 2, 3, 1])"
      ]
     },
     "execution_count": 16,
     "metadata": {},
     "output_type": "execute_result"
    }
   ],
   "source": [
    "descriptor = usb_device.ctrl_transfer(bmRequestType = bmRequestType, \n",
    "                                      bRequest = CONTROL_REQUEST.GET_DESCRIPTOR, \n",
    "                                      wValue = DESCRIPTOR.TYPE.DEVICE << 8, \n",
    "                                      wIndex = 0, \n",
    "                                      data_or_wLength = DESCRIPTOR.SIZE.DEVICE)\n",
    "descriptor"
   ]
  },
  {
   "cell_type": "code",
   "execution_count": 17,
   "metadata": {
    "scrolled": false
   },
   "outputs": [
    {
     "data": {
      "text/plain": [
       "1"
      ]
     },
     "execution_count": 17,
     "metadata": {},
     "output_type": "execute_result"
    }
   ],
   "source": [
    "dev_dscrpt = StandardDeviceDescriptor.from_byte_array(descriptor, parent_id = usb_device.id)\n",
    "session_usb20_descriptors.add(dev_dscrpt)\n",
    "session_usb20_descriptors.commit()\n",
    "dev_dscrpt.id"
   ]
  },
  {
   "cell_type": "markdown",
   "metadata": {},
   "source": [
    "## Configuration descriptor\n",
    "https://www.beyondlogic.org/usbnutshell/usb5.shtml#ConfigurationDescriptors  "
   ]
  },
  {
   "cell_type": "code",
   "execution_count": 18,
   "metadata": {},
   "outputs": [
    {
     "data": {
      "text/plain": [
       "array('B', [9, 2, 152, 0, 2, 1, 4, 128, 50])"
      ]
     },
     "execution_count": 18,
     "metadata": {},
     "output_type": "execute_result"
    }
   ],
   "source": [
    "descriptor = usb_device.ctrl_transfer(bmRequestType = bmRequestType, \n",
    "                                      bRequest = CONTROL_REQUEST.GET_DESCRIPTOR, \n",
    "                                      wValue = DESCRIPTOR.TYPE.CONFIG << 8, \n",
    "                                      wIndex = 0, \n",
    "                                      data_or_wLength = DESCRIPTOR.SIZE.CONFIG)\n",
    "descriptor"
   ]
  },
  {
   "cell_type": "code",
   "execution_count": 19,
   "metadata": {
    "scrolled": false
   },
   "outputs": [
    {
     "data": {
      "text/plain": [
       "1"
      ]
     },
     "execution_count": 19,
     "metadata": {},
     "output_type": "execute_result"
    }
   ],
   "source": [
    "# config = StandardConfigurationDescriptor(*(StandardConfigurationDescriptor.get_descriptor_fields_values(descriptor)))\n",
    "config_dscrpt = StandardConfigurationDescriptor.from_byte_array(descriptor, parent_id = dev_dscrpt.id)\n",
    "session_usb20_descriptors.add(config_dscrpt)\n",
    "session_usb20_descriptors.commit()\n",
    "config_dscrpt.id"
   ]
  },
  {
   "cell_type": "markdown",
   "metadata": {},
   "source": [
    "### Host 再一次發送 GetDescriptor(Config類) 的請求\n",
    "完整的長度 = wTotalLength"
   ]
  },
  {
   "cell_type": "code",
   "execution_count": 20,
   "metadata": {},
   "outputs": [],
   "source": [
    "descriptor = usb_device.ctrl_transfer(bmRequestType = bmRequestType, \n",
    "                                      bRequest = CONTROL_REQUEST.GET_DESCRIPTOR, \n",
    "                                      wValue = DESCRIPTOR.TYPE.CONFIG << 8, \n",
    "                                      wIndex = 0, \n",
    "                                      data_or_wLength = descriptor[2])\n",
    "# descriptor"
   ]
  },
  {
   "cell_type": "code",
   "execution_count": 21,
   "metadata": {},
   "outputs": [
    {
     "data": {
      "text/plain": [
       "[array('B', [9, 2, 152, 0, 2, 1, 4, 128, 50]),\n",
       " array('B', [8, 11, 0, 2, 1, 0, 32, 6]),\n",
       " array('B', [9, 4, 0, 0, 1, 1, 1, 32, 7]),\n",
       " array('B', [9, 36, 1, 0, 2, 1, 71, 0, 0]),\n",
       " array('B', [8, 36, 10, 16, 5, 3, 0, 8]),\n",
       " array('B', [17, 36, 2, 1, 1, 1, 0, 16, 2, 0, 0, 0, 0, 14, 0, 0, 9]),\n",
       " array('B', [18, 36, 6, 2, 1, 15, 0, 0, 0, 0, 0, 0, 0, 0, 0, 0, 0, 10]),\n",
       " array('B', [12, 36, 3, 3, 1, 3, 0, 2, 16, 0, 0, 11]),\n",
       " array('B', [7, 5, 129, 3, 6, 0, 1]),\n",
       " array('B', [9, 4, 1, 0, 0, 1, 2, 32, 12]),\n",
       " array('B', [9, 4, 1, 1, 1, 1, 2, 32, 13]),\n",
       " array('B', [16, 36, 1, 1, 0, 1, 1, 0, 0, 0, 2, 0, 0, 0, 0, 16]),\n",
       " array('B', [6, 36, 2, 1, 4, 24]),\n",
       " array('B', [7, 5, 2, 13, 0, 28, 1]),\n",
       " array('B', [8, 37, 1, 0, 0, 0, 0, 0])]"
      ]
     },
     "execution_count": 21,
     "metadata": {},
     "output_type": "execute_result"
    }
   ],
   "source": [
    "descriptors = list(usb_device.split_descriptor(descriptor))\n",
    "descriptors"
   ]
  },
  {
   "cell_type": "code",
   "execution_count": 22,
   "metadata": {},
   "outputs": [
    {
     "data": {
      "text/plain": [
       "15"
      ]
     },
     "execution_count": 22,
     "metadata": {},
     "output_type": "execute_result"
    }
   ],
   "source": [
    "len(descriptors)"
   ]
  },
  {
   "cell_type": "markdown",
   "metadata": {},
   "source": [
    "## Interface descriptor\n",
    "https://www.beyondlogic.org/usbnutshell/usb5.shtml#InterfaceDescriptors  "
   ]
  },
  {
   "cell_type": "code",
   "execution_count": 23,
   "metadata": {},
   "outputs": [],
   "source": [
    "for dscrpt in descriptors:\n",
    "    if dscrpt[1] == 4:\n",
    "        dbo = StandardInterfaceDescriptor.from_byte_array(dscrpt, parent_id = config_dscrpt.id)\n",
    "        session_usb20_descriptors.add(dbo) \n",
    "        \n",
    "session_usb20_descriptors.commit() "
   ]
  },
  {
   "cell_type": "markdown",
   "metadata": {},
   "source": [
    "## Endpoint descriptor\n",
    "https://www.beyondlogic.org/usbnutshell/usb5.shtml#EndpointDescriptors  "
   ]
  },
  {
   "cell_type": "code",
   "execution_count": 24,
   "metadata": {},
   "outputs": [],
   "source": [
    "for dscrpt in descriptors:\n",
    "    if dscrpt[1] == 5: \n",
    "        dbo = StandardEndpointDescriptor.from_byte_array(dscrpt, parent_id = config_dscrpt.id)\n",
    "        session_usb20_descriptors.add(dbo) \n",
    "        \n",
    "session_usb20_descriptors.commit() "
   ]
  },
  {
   "cell_type": "markdown",
   "metadata": {},
   "source": [
    "## String descriptor\n",
    "https://www.beyondlogic.org/usbnutshell/usb5.shtml#StringDescriptors  "
   ]
  },
  {
   "cell_type": "code",
   "execution_count": 25,
   "metadata": {
    "scrolled": false
   },
   "outputs": [
    {
     "data": {
      "text/plain": [
       "['',\n",
       " 'Wei Lin',\n",
       " 'UAC2.0 Sound Card Prototype',\n",
       " '0.1',\n",
       " 'High speed configuration',\n",
       " 'Full speed configuration',\n",
       " 'UAC2.0 Sound Card Prototype',\n",
       " 'Audio Control Interface',\n",
       " 'Clock Source',\n",
       " 'USB Streaming into device',\n",
       " \"['Mute', 'Volume']\",\n",
       " 'Speaker',\n",
       " 'Audio Streaming Disabled (zero bandwidth)',\n",
       " 'Audio Streaming Enabled',\n",
       " 'Front Left',\n",
       " 'Front Right',\n",
       " 'Front Left',\n",
       " 'Front Right',\n",
       " '',\n",
       " '',\n",
       " '',\n",
       " '',\n",
       " '',\n",
       " '',\n",
       " '',\n",
       " '',\n",
       " '',\n",
       " '',\n",
       " '',\n",
       " '',\n",
       " '',\n",
       " '',\n",
       " '',\n",
       " '',\n",
       " '',\n",
       " '',\n",
       " '',\n",
       " '',\n",
       " '',\n",
       " '',\n",
       " '',\n",
       " '',\n",
       " '',\n",
       " '',\n",
       " '',\n",
       " '',\n",
       " '',\n",
       " '',\n",
       " '',\n",
       " '',\n",
       " '',\n",
       " '',\n",
       " '',\n",
       " '',\n",
       " '',\n",
       " '',\n",
       " '',\n",
       " '',\n",
       " '',\n",
       " '',\n",
       " '',\n",
       " '',\n",
       " '',\n",
       " '',\n",
       " '',\n",
       " '',\n",
       " '',\n",
       " '',\n",
       " '',\n",
       " '',\n",
       " '',\n",
       " '',\n",
       " '',\n",
       " '',\n",
       " '',\n",
       " '',\n",
       " '',\n",
       " '',\n",
       " '',\n",
       " '',\n",
       " '',\n",
       " '',\n",
       " '',\n",
       " '',\n",
       " '',\n",
       " '',\n",
       " '',\n",
       " '',\n",
       " '',\n",
       " '',\n",
       " '',\n",
       " '',\n",
       " '',\n",
       " '',\n",
       " '',\n",
       " '',\n",
       " '',\n",
       " '',\n",
       " '',\n",
       " '',\n",
       " '',\n",
       " '',\n",
       " '',\n",
       " '',\n",
       " '',\n",
       " '',\n",
       " '',\n",
       " '',\n",
       " '',\n",
       " '',\n",
       " '',\n",
       " '',\n",
       " '',\n",
       " '',\n",
       " '',\n",
       " '',\n",
       " '',\n",
       " '',\n",
       " '',\n",
       " '',\n",
       " '',\n",
       " '',\n",
       " '',\n",
       " '',\n",
       " '',\n",
       " '',\n",
       " '']"
      ]
     },
     "execution_count": 25,
     "metadata": {},
     "output_type": "execute_result"
    }
   ],
   "source": [
    "string_descriptors = usb_device.get_strings()\n",
    "string_descriptors"
   ]
  },
  {
   "cell_type": "code",
   "execution_count": 26,
   "metadata": {},
   "outputs": [],
   "source": [
    "for i in range(len(string_descriptors)): \n",
    "        if string_descriptors[i] is not None:\n",
    "            string = UnicodeStringDescriptor(len(string_descriptors[i]),\n",
    "                                             UnicodeStringDescriptor.int_to_hex(3), \n",
    "                                             string_descriptors[i], parent_id = usb_device.id)   \n",
    "            session_usb20_descriptors.add(string)\n",
    "        \n",
    "session_usb20_descriptors.commit() "
   ]
  },
  {
   "cell_type": "markdown",
   "metadata": {},
   "source": [
    "## Descriptor types "
   ]
  },
  {
   "cell_type": "code",
   "execution_count": 27,
   "metadata": {},
   "outputs": [],
   "source": [
    "# from array import array\n",
    "\n",
    "# dataset = [('device', 1), ('configuration', 2), ('string', 3), ('interface', 4), ('endpoint', 5),\n",
    "#            ('device_qualifier', 6), ('other_speed_configuration', 7), ('interface_power', 8),\n",
    "#            ('OTG', 9), ('debug', 10), ('interface_association', 11)]\n",
    "\n",
    "# for row in dataset: \n",
    "#     do = DescriptorType(row[0],  \n",
    "#                         DescriptorType.int_to_hex(row[1]))\n",
    "#     session.add(do)\n",
    "        \n",
    "# session.commit() "
   ]
  },
  {
   "cell_type": "markdown",
   "metadata": {},
   "source": [
    "## Class code  \n",
    "https://www.usb.org/defined-class-codes   "
   ]
  },
  {
   "cell_type": "code",
   "execution_count": 28,
   "metadata": {},
   "outputs": [],
   "source": [
    "# dataset = [('Use class information in the Interface Descriptors', 'Device', 0), ('Audio', 'Interface', 1),\n",
    "#            ('Communications and CDC Control', 'Both', 2), ('HID (Human Interface Device)', 'Interface', 3),\n",
    "#            ('Physical', 'Interface', 5), ('Image', 'Interface', 6), ('Printer', 'Interface', 7),\n",
    "#            ('Mass Storage', 'Interface', 8), ('Hub', 'Device', 9), ('CDC-Data', 'Interface', 10),\n",
    "#            ('Smart Card', 'Interface', 11), ('Content Security', 'Interface', 13), ('Video', 'Interface', 14),\n",
    "#            ('Personal Healthcare', 'Interface', 15), ('Audio/Video Devices', 'Interface', 16), \n",
    "#            ('Billboard Device Class', 'Device', 17), ('USB Type-C Bridge Class', 'Interface', 18),\n",
    "#            ('Diagnostic Device', 'Both', 220), ('Wireless Controller', 'Interface', 224), \n",
    "#            ('Miscellaneous', 'Both', 239), ('Application Specific', 'Interface', 254), ('Vendor Specific', 'Both', 255), ]\n",
    "\n",
    "# for row in dataset: \n",
    "#     do = ClassCode(row[0], row[1], \n",
    "#                    DescriptorType.int_to_hex(row[2]))\n",
    "#     session.add(do)\n",
    "        \n",
    "# session.commit() "
   ]
  },
  {
   "cell_type": "markdown",
   "metadata": {},
   "source": [
    "## Request code  \n",
    "https://www.beyondlogic.org/usbnutshell/usb6.shtml  "
   ]
  },
  {
   "cell_type": "code",
   "execution_count": 29,
   "metadata": {},
   "outputs": [],
   "source": [
    "# dataset = [('GET_STATUS', 0), ('CLEAR_FEATURE', 1), ('Reserved for future use', 2), ('SET_FEATURE', 3),\n",
    "#            ('Reserved for future use', 4), ('SET_ADDRESS', 5), ('GET_DESCRIPTOR', 6), ('SET_DESCRIPTOR', 7),\n",
    "#            ('GET_CONFIGURATION', 8), ('SET_CONFIGURATION', 9), ('GET_INTERFACE', 10), ('SET_INTERFACE', 11), \n",
    "#            ('SYNCH_FRAME', 12)]\n",
    "\n",
    "# for row in dataset: \n",
    "#     do = RequestCode(row[0], \n",
    "#                    RequestCode.int_to_hex(row[1]))\n",
    "#     session.add(do)\n",
    "        \n",
    "# session.commit() "
   ]
  }
 ],
 "metadata": {
  "kernelspec": {
   "display_name": "Python 3",
   "language": "python",
   "name": "python3"
  },
  "language_info": {
   "codemirror_mode": {
    "name": "ipython",
    "version": 3
   },
   "file_extension": ".py",
   "mimetype": "text/x-python",
   "name": "python",
   "nbconvert_exporter": "python",
   "pygments_lexer": "ipython3",
   "version": "3.6.9"
  }
 },
 "nbformat": 4,
 "nbformat_minor": 2
}
