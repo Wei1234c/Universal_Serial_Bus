{
 "cells": [
  {
   "cell_type": "markdown",
   "metadata": {},
   "source": [
    "# USB 3.0 xHCI Controller\n",
    "https://devicehunt.com/view/type/pci/vendor/8086/device/A12F  \n",
    "https://usb-ids.gowdy.us/read/UD/8087/0a2a"
   ]
  },
  {
   "cell_type": "code",
   "execution_count": 1,
   "metadata": {},
   "outputs": [],
   "source": [
    "import os, sys\n",
    "\n",
    "def gen_relative_path(target_path): \n",
    "    \n",
    "    def del_same_parents(target_path, current_path):\n",
    "        if len(target_path) * len(current_path) > 0:\n",
    "            if target_path[0] == current_path[0]:\n",
    "                target_path.pop(0)\n",
    "                current_path.pop(0)\n",
    "                del_same_parents(target_path, current_path)\n",
    "            \n",
    "    current_path = os.getcwd().replace('\\\\', '/').split('/')\n",
    "    target_path = target_path.replace('\\\\', '/').split('/')\n",
    "    del_same_parents(target_path, current_path)\n",
    "    \n",
    "    return ['..'] * len(current_path) + target_path\n",
    "\n",
    "\n",
    "def append_source_relative_path(source_relative_path):\n",
    "    sys.path.append(os.sep.join(source_relative_path))"
   ]
  },
  {
   "cell_type": "code",
   "execution_count": 2,
   "metadata": {},
   "outputs": [],
   "source": [
    "# paths = [gen_relative_path(p) for p in paths]\n",
    "# print(paths)"
   ]
  },
  {
   "cell_type": "code",
   "execution_count": 3,
   "metadata": {},
   "outputs": [],
   "source": [
    "paths = [['..', '..', '..', '..', '..', 'ORM', 'bitbucket', 'github', 'codes'],\n",
    "         ['..', 'codes']]\n",
    "\n",
    "for path in paths:\n",
    "    append_source_relative_path(path)"
   ]
  },
  {
   "cell_type": "code",
   "execution_count": 4,
   "metadata": {},
   "outputs": [
    {
     "name": "stdout",
     "output_type": "stream",
     "text": [
      "Populating the interactive namespace from numpy and matplotlib\n"
     ]
    }
   ],
   "source": [
    "%pylab inline  \n",
    "\n",
    "import universal_serial_bus\n",
    "from universal_serial_bus import *\n",
    "from universal_serial_bus.orm.usb20 import USBdevice"
   ]
  },
  {
   "cell_type": "markdown",
   "metadata": {},
   "source": [
    "In `Python/Lib/site-packages/usb/backend/libusb1.py`\n",
    "\n",
    "```\n",
    "    @methodtrace(_logger)\n",
    "    def get_configuration_descriptor(self, dev, config):\n",
    "        cfg = POINTER(_libusb_config_descriptor)()\n",
    "\n",
    "        # debug code start\n",
    "        # to show which device cause the problem. read the idVendor/idProduct\n",
    "        dev_desc = _libusb_device_descriptor()\n",
    "        _check(self.lib.libusb_get_device_descriptor(dev.devid, byref(dev_desc)))\n",
    "\n",
    "\n",
    "        ret = self.lib.libusb_get_config_descriptor(\n",
    "            dev.devid,\n",
    "            config, byref(cfg))\n",
    "\n",
    "        print(ret, ': ', hex(dev_desc.idVendor), hex(dev_desc.idProduct))\n",
    "\n",
    "        # debug code end, break if ret < 0\n",
    "\n",
    "        _check(self.lib.libusb_get_config_descriptor(\n",
    "                dev.devid,\n",
    "                config, byref(cfg)))\n",
    "        config_desc = _ConfigDescriptor(cfg)\n",
    "        config_desc.extra_descriptors = (\n",
    "                config_desc.extra[:config_desc.extra_length])\n",
    "        return config_desc\n",
    "\n",
    "```\n",
    "\n",
    "return \n",
    "\n",
    "```\n",
    "0 :  0x8087 0xa2a\n",
    "0 :  0x8087 0xa2a\n",
    "0 :  0x8087 0xa2a\n",
    "0 :  0x8087 0xa2a\n",
    "0 :  0x8087 0xa2a\n",
    "0 :  0x8087 0xa2a\n",
    "0 :  0x8087 0xa2a\n",
    "0 :  0x8087 0xa2a\n",
    "0 :  0x8087 0xa2a\n",
    "0 :  0x8087 0xa2a\n",
    "0 :  0x46d 0xc52b\n",
    "0 :  0x46d 0xc52b\n",
    "-5 :  0x8086 0xa12f\n",
    "```"
   ]
  },
  {
   "cell_type": "markdown",
   "metadata": {},
   "source": [
    "## Backend"
   ]
  },
  {
   "cell_type": "code",
   "execution_count": 5,
   "metadata": {},
   "outputs": [],
   "source": [
    "import usb.backend.libusb1 as libusb\n",
    "# import usb.backend.libusb0 as libusb\n",
    "\n",
    "backend = libusb.get_backend()"
   ]
  },
  {
   "cell_type": "markdown",
   "metadata": {},
   "source": [
    "# Choose devices"
   ]
  },
  {
   "cell_type": "code",
   "execution_count": 6,
   "metadata": {},
   "outputs": [
    {
     "name": "stdout",
     "output_type": "stream",
     "text": [
      "DEVICE ID 8087:0a2a on Bus 001 Address 003, Wireless Controller\n",
      "DEVICE ID 1b3f:2008 on Bus 001 Address 007, Specified at interface\n",
      "DEVICE ID 046d:c52b on Bus 001 Address 001, Specified at interface\n",
      "DEVICE ID 1df7:2500 on Bus 001 Address 006, Vendor-specific\n",
      "DEVICE ID 04f2:b57e on Bus 001 Address 002, Miscellaneous\n",
      "\n"
     ]
    }
   ],
   "source": [
    "print(usb.core.show_devices(verbose = False, backend = backend))"
   ]
  },
  {
   "cell_type": "code",
   "execution_count": 7,
   "metadata": {},
   "outputs": [],
   "source": [
    "vendor_id, product_id = 0x8086, 0xa12f  # USB 3.0 xHCI Controller \n",
    "# vendor_id, product_id = 0x8087, 0x0a2a  # Wireless Controller\n",
    "vendor_id, product_id = 0x1df7, 0x2500  # Wireless Controller\n",
    "# vendor_id, product_id = 0x0bda, 0x2838  # Realtek RTL2838UHIDIR   \n",
    "vendor_id, product_id = 0x1b3f, 0x2008  # USB Audio Device  \n",
    "        \n",
    "# dev = usb.core.find(idVendor = vendor_id, idProduct = product_id, backend = backend)\n",
    "dev = USBdevice(vid = vendor_id, pid = product_id, backend = backend)\n",
    "# dev = usb.core.find(find_all = True, idVendor = vendor_id)\n",
    "# dev = usb.core.find(find_all = True) "
   ]
  },
  {
   "cell_type": "code",
   "execution_count": 8,
   "metadata": {},
   "outputs": [
    {
     "name": "stdout",
     "output_type": "stream",
     "text": [
      "DEVICE ID 1b3f:2008 on Bus 001 Address 007 =================\n",
      " bLength                :   0x12 (18 bytes)\n",
      " bDescriptorType        :    0x1 Device\n",
      " bcdUSB                 :  0x110 USB 1.1\n",
      " bDeviceClass           :    0x0 Specified at interface\n",
      " bDeviceSubClass        :    0x0\n",
      " bDeviceProtocol        :    0x0\n",
      " bMaxPacketSize0        :    0x8 (8 bytes)\n",
      " idVendor               : 0x1b3f\n",
      " idProduct              : 0x2008\n",
      " bcdDevice              :  0x100 Device 1.0\n",
      " iManufacturer          :    0x1 GeneralPlus\n",
      " iProduct               :    0x2 USB Audio Device\n",
      " iSerialNumber          :    0x0 \n",
      " bNumConfigurations     :    0x1\n"
     ]
    }
   ],
   "source": [
    "print(dev._get_full_descriptor_str())"
   ]
  },
  {
   "cell_type": "code",
   "execution_count": 9,
   "metadata": {
    "scrolled": false
   },
   "outputs": [],
   "source": [
    "# print(dev)"
   ]
  },
  {
   "cell_type": "code",
   "execution_count": 10,
   "metadata": {},
   "outputs": [],
   "source": [
    "# dev.descriptors_dbos_enum"
   ]
  },
  {
   "cell_type": "code",
   "execution_count": 11,
   "metadata": {},
   "outputs": [
    {
     "data": {
      "text/plain": [
       "['', 'GeneralPlus', 'USB Audio Device']"
      ]
     },
     "execution_count": 11,
     "metadata": {},
     "output_type": "execute_result"
    }
   ],
   "source": [
    "dev.get_strings()"
   ]
  },
  {
   "cell_type": "code",
   "execution_count": 12,
   "metadata": {},
   "outputs": [
    {
     "name": "stdout",
     "output_type": "stream",
     "text": [
      "StandardDeviceDescriptor\n",
      "\tbLength: 0x12\n",
      "\tbDescriptorType: 0x01\n",
      "\tbcdUSB: 0x0002\n",
      "\tbDeviceClass: 0x00\n",
      "\tbDeviceSubClass: 0x00\n",
      "\tbDeviceProtocol: 0x00\n",
      "\tbMaxPacketSize0: 0x40\n",
      "\tidVendor: 0x3f1b\n",
      "\tidProduct: 0x0820\n",
      "\tbcdDevice: 0x0001\n",
      "\tiManufacturer: 0x01\n",
      "\tiProduct: 0x02\n",
      "\tiSerialNumber: 0x00\n",
      "\tbNumConfigurations: 0x01\n",
      "StandardConfigurationDescriptor\n",
      "\tbLength: 0x09\n",
      "\tbDescriptorType: 0x02\n",
      "\twTotalLength: 0x2200\n",
      "\tbNumInterfaces: 0x01\n",
      "\tbConfigurationValue: 0x01\n",
      "\tiConfiguration: 0x00\n",
      "\tbmAttributes: 0x80\n",
      "\tbMaxPower: 0x32\n",
      "StandardInterfaceDescriptor\n",
      "\tbLength: 0x09\n",
      "\tbDescriptorType: 0x04\n",
      "\tbInterfaceNumber: 0x00\n",
      "\tbAlternateSetting: 0x00\n",
      "\tbNumEndpoints: 0x01\n",
      "\tbInterfaceClass: 0x03\n",
      "\tbInterfaceSubClass: 0x00\n",
      "\tbInterfaceProtocol: 0x00\n",
      "\tiInterface: 0x00\n",
      "StandardEndpointDescriptor\n",
      "\tbLength: 0x07\n",
      "\tbDescriptorType: 0x05\n",
      "\tbEndpointAddress: 0x81\n",
      "\tbmAttributes: 0x03\n",
      "\twMaxPacketSize: 0x0100\n",
      "\tbInterval: 0x0a\n"
     ]
    }
   ],
   "source": [
    "dev.print_descriptors_dbos()"
   ]
  },
  {
   "cell_type": "code",
   "execution_count": 13,
   "metadata": {},
   "outputs": [],
   "source": [
    "dev.close()"
   ]
  }
 ],
 "metadata": {
  "kernelspec": {
   "display_name": "Python 3",
   "language": "python",
   "name": "python3"
  },
  "language_info": {
   "codemirror_mode": {
    "name": "ipython",
    "version": 3
   },
   "file_extension": ".py",
   "mimetype": "text/x-python",
   "name": "python",
   "nbconvert_exporter": "python",
   "pygments_lexer": "ipython3",
   "version": "3.6.10"
  }
 },
 "nbformat": 4,
 "nbformat_minor": 2
}
